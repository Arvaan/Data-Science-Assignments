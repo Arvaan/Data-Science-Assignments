{
 "cells": [
  {
   "cell_type": "markdown",
   "id": "f9065f57",
   "metadata": {},
   "source": [
    "# Q1. Look at the data given below. Plot the data, find the outliers and find out μ,σ,σ^2"
   ]
  },
  {
   "cell_type": "code",
   "execution_count": 1,
   "id": "d904aa40",
   "metadata": {},
   "outputs": [
    {
     "name": "stdout",
     "output_type": "stream",
     "text": [
      "     Name_of_Company  Measure_X\n",
      "0      Allied Signal     0.2423\n",
      "1      Bankers Trust     0.2553\n",
      "2      General Mills     0.2541\n",
      "3     ITT Industries     0.2414\n",
      "4    J.P.Morgan & Co     0.2962\n",
      "5    Lehman Brothers     0.2825\n",
      "6            Mariott     0.2581\n",
      "7                MCI     0.2439\n",
      "8       Merill Lynch     0.4026\n",
      "9          Microsoft     0.3295\n",
      "10    Morgan Stanley     0.9136\n",
      "11  Sun Microsystems     0.2599\n",
      "12         Travelers     0.3942\n",
      "13        US Airways     0.2671\n",
      "14    Warner-Lambert     0.3500\n"
     ]
    }
   ],
   "source": [
    "import pandas as pd\n",
    "import numpy as np\n",
    "import matplotlib.pyplot as plt\n",
    "import seaborn as sns\n",
    "from scipy.stats import norm\n",
    "data = {'Name_of_Company':['Allied Signal','Bankers Trust','General Mills','ITT Industries','J.P.Morgan & Co',\n",
    "                           'Lehman Brothers','Mariott','MCI','Merill Lynch','Microsoft','Morgan Stanley','Sun Microsystems',\n",
    "                           'Travelers','US Airways','Warner-Lambert'],\n",
    "       'Measure_X':[0.2423,0.2553,0.2541,0.2414,0.2962,0.2825,0.2581,0.2439,0.4026,0.3295,0.9136,0.2599,0.3942,\n",
    "                    0.2671,0.3500]}\n",
    "data_df=pd.DataFrame(data)\n",
    "print(data_df)"
   ]
  },
  {
   "cell_type": "code",
   "execution_count": 2,
   "id": "90b956a4",
   "metadata": {},
   "outputs": [
    {
     "name": "stdout",
     "output_type": "stream",
     "text": [
      "\n",
      "------Find Mean-------\n",
      "Measure_X    0.332713\n",
      "dtype: float64\n",
      "\n",
      "------Find Standard Deviation-------\n",
      "Measure_X    0.169454\n",
      "dtype: float64\n",
      "\n",
      "------Find Variance-------\n",
      "Measure_X    0.028715\n",
      "dtype: float64\n"
     ]
    }
   ],
   "source": [
    "print (\"\\n------Find Mean-------\")\n",
    "print(data_df.mean())\n",
    "print (\"\\n------Find Standard Deviation-------\")\n",
    "print(data_df.std())\n",
    "print (\"\\n------Find Variance-------\")\n",
    "print(data_df.var())"
   ]
  },
  {
   "cell_type": "code",
   "execution_count": 3,
   "id": "43214b90",
   "metadata": {},
   "outputs": [
    {
     "data": {
      "text/html": [
       "<div>\n",
       "<style scoped>\n",
       "    .dataframe tbody tr th:only-of-type {\n",
       "        vertical-align: middle;\n",
       "    }\n",
       "\n",
       "    .dataframe tbody tr th {\n",
       "        vertical-align: top;\n",
       "    }\n",
       "\n",
       "    .dataframe thead th {\n",
       "        text-align: right;\n",
       "    }\n",
       "</style>\n",
       "<table border=\"1\" class=\"dataframe\">\n",
       "  <thead>\n",
       "    <tr style=\"text-align: right;\">\n",
       "      <th></th>\n",
       "      <th>Measure_X</th>\n",
       "    </tr>\n",
       "  </thead>\n",
       "  <tbody>\n",
       "    <tr>\n",
       "      <th>count</th>\n",
       "      <td>15.000000</td>\n",
       "    </tr>\n",
       "    <tr>\n",
       "      <th>mean</th>\n",
       "      <td>0.332713</td>\n",
       "    </tr>\n",
       "    <tr>\n",
       "      <th>std</th>\n",
       "      <td>0.169454</td>\n",
       "    </tr>\n",
       "    <tr>\n",
       "      <th>min</th>\n",
       "      <td>0.241400</td>\n",
       "    </tr>\n",
       "    <tr>\n",
       "      <th>25%</th>\n",
       "      <td>0.254700</td>\n",
       "    </tr>\n",
       "    <tr>\n",
       "      <th>50%</th>\n",
       "      <td>0.267100</td>\n",
       "    </tr>\n",
       "    <tr>\n",
       "      <th>75%</th>\n",
       "      <td>0.339750</td>\n",
       "    </tr>\n",
       "    <tr>\n",
       "      <th>max</th>\n",
       "      <td>0.913600</td>\n",
       "    </tr>\n",
       "  </tbody>\n",
       "</table>\n",
       "</div>"
      ],
      "text/plain": [
       "       Measure_X\n",
       "count  15.000000\n",
       "mean    0.332713\n",
       "std     0.169454\n",
       "min     0.241400\n",
       "25%     0.254700\n",
       "50%     0.267100\n",
       "75%     0.339750\n",
       "max     0.913600"
      ]
     },
     "execution_count": 3,
     "metadata": {},
     "output_type": "execute_result"
    }
   ],
   "source": [
    "data_df.describe()"
   ]
  },
  {
   "cell_type": "code",
   "execution_count": 4,
   "id": "a807839b",
   "metadata": {},
   "outputs": [
    {
     "name": "stdout",
     "output_type": "stream",
     "text": [
      "\n",
      "------Graphical Representation of Boxplot-------\n"
     ]
    },
    {
     "data": {
      "text/plain": [
       "Text(0.5, 0, 'DataSet')"
      ]
     },
     "execution_count": 4,
     "metadata": {},
     "output_type": "execute_result"
    },
    {
     "data": {
      "image/png": "[encoded data removed]",
      "text/plain": [
       "<Figure size 432x288 with 1 Axes>"
      ]
     },
     "metadata": {
      "needs_background": "light"
     },
     "output_type": "display_data"
    }
   ],
   "source": [
    "print (\"\\n------Graphical Representation of Boxplot-------\")\n",
    "data_df.plot.box(y =['Measure_X'])\n",
    "plt.xlabel('DataSet')"
   ]
  },
  {
   "cell_type": "markdown",
   "id": "e0236c22",
   "metadata": {},
   "source": [
    "# Q5. Returns on a certain business venture, to the nearest $1,000, are known to follow the following probability distribution"
   ]
  },
  {
   "cell_type": "code",
   "execution_count": 5,
   "id": "d574fcd4",
   "metadata": {},
   "outputs": [
    {
     "name": "stdout",
     "output_type": "stream",
     "text": [
      "      X  density\n",
      "0 -2000      0.1\n",
      "1 -1000      0.1\n",
      "2     0      0.2\n",
      "3  1000      0.2\n",
      "4  2000      0.3\n",
      "5  3000      0.1\n"
     ]
    },
    {
     "name": "stderr",
     "output_type": "stream",
     "text": [
      "C:\\Users\\Arvaan\\anaconda3\\lib\\site-packages\\seaborn\\distributions.py:2557: FutureWarning: `distplot` is a deprecated function and will be removed in a future version. Please adapt your code to use either `displot` (a figure-level function with similar flexibility) or `histplot` (an axes-level function for histograms).\n",
      "  warnings.warn(msg, FutureWarning)\n"
     ]
    },
    {
     "data": {
      "image/png": "[encoded data removed]",
      "text/plain": [
       "<Figure size 360x360 with 1 Axes>"
      ]
     },
     "metadata": {
      "needs_background": "light"
     },
     "output_type": "display_data"
    }
   ],
   "source": [
    "data = {'X':[-2000,-1000,0,1000,2000,3000],\n",
    "       'density':[0.1,0.1,0.2,0.2,0.3,0.1]}\n",
    "data_df=pd.DataFrame(data)\n",
    "print(data_df)\n",
    "fig = plt.figure(figsize =(5,5)) \n",
    "sns.distplot(data_df)#(data_df['X'],data_df['density'])\n",
    "plt.show()"
   ]
  },
  {
   "cell_type": "markdown",
   "id": "2ea499ee",
   "metadata": {},
   "source": [
    "### 1. The time required for servicing transmissions is normally distributed with Mean= 45 minutes and STD = 8 minutes. The service manager plans to have work begin on the transmission of a customer’s car 10 minutes after the car is dropped off and the customer is told that the car will be ready within 1 hour from drop-off. What is the probability that the service manager cannot meet his commitment?"
   ]
  },
  {
   "cell_type": "code",
   "execution_count": 6,
   "id": "23dbd95f",
   "metadata": {},
   "outputs": [
    {
     "name": "stdout",
     "output_type": "stream",
     "text": [
      "Probability that car service can be done in 1 hour is  0.7340144709512995\n"
     ]
    }
   ],
   "source": [
    "X50= norm.cdf(50,45,8)\n",
    "print('Probability that car service can be done in 1 hour is ',X50)"
   ]
  },
  {
   "cell_type": "code",
   "execution_count": 7,
   "id": "42088116",
   "metadata": {},
   "outputs": [
    {
     "name": "stdout",
     "output_type": "stream",
     "text": [
      "Probability that car service cannot be done in 1 hour is  0.26598552904870054\n"
     ]
    }
   ],
   "source": [
    "Pnot= 1-X50\n",
    "print('Probability that car service cannot be done in 1 hour is ',Pnot)"
   ]
  },
  {
   "cell_type": "markdown",
   "id": "743fad73",
   "metadata": {},
   "source": [
    "### 2. The current age (in years) of 400 clerical employees at an insurance claims processing center is normally distributed with mean Mean = 38 and Standard deviation Mean=6. For each statement below, please specify True/False. If false, briefly explain why."
   ]
  },
  {
   "cell_type": "code",
   "execution_count": 8,
   "id": "6ce7b6a4",
   "metadata": {},
   "outputs": [
    {
     "name": "stdout",
     "output_type": "stream",
     "text": [
      "0.8413447460685429\n",
      "Employees Greater than 44 is  0.15865525393145707\n",
      "0.09121121972586788\n"
     ]
    }
   ],
   "source": [
    "X44 = norm.cdf(44,38,6)\n",
    "print(X44)\n",
    "print('Employees Greater than 44 is ',1-X44)\n",
    "X30 = norm.cdf(30,38,6)\n",
    "print(X30)"
   ]
  },
  {
   "cell_type": "code",
   "execution_count": 9,
   "id": "6152d0f1",
   "metadata": {},
   "outputs": [
    {
     "name": "stdout",
     "output_type": "stream",
     "text": [
      "For Population Size 400 Employees Under age 30 is  36.484487890347154\n"
     ]
    }
   ],
   "source": [
    "print('For Population Size 400 Employees Under age 30 is ', 400*X30)"
   ]
  },
  {
   "cell_type": "code",
   "execution_count": 10,
   "id": "9657d33a",
   "metadata": {},
   "outputs": [
    {
     "name": "stdout",
     "output_type": "stream",
     "text": [
      "-2.575829303548901 2.5758293035489004\n"
     ]
    }
   ],
   "source": [
    "b_Zscore=norm.ppf(0.995)\n",
    "a_Zscore= norm.ppf(0.005)\n",
    "print(a_Zscore,b_Zscore)\n",
    "si=20\n",
    "mu=100"
   ]
  },
  {
   "cell_type": "code",
   "execution_count": 11,
   "id": "69b89d4c",
   "metadata": {},
   "outputs": [
    {
     "name": "stdout",
     "output_type": "stream",
     "text": [
      "a = 48.483413929021985   b =  151.516586070978\n"
     ]
    }
   ],
   "source": [
    "Xa=(a_Zscore*si)+mu\n",
    "Xb=(b_Zscore*si)+mu\n",
    "print('a =',Xa,'  b = ',Xb)\n",
    "\n",
    "x=(a_Zscore,b_Zscore,0.001)\n",
    "#x_all=np.arange(-10,10,0.001)\n",
    "y=norm.cdf(x,0,1)\n",
    "#y2=norm.pdf(x_all,0,1)"
   ]
  },
  {
   "cell_type": "markdown",
   "id": "833d9209",
   "metadata": {},
   "source": [
    "### 5. Consider a company that has two different divisions. The annual profits from the two divisions are independent and have distributions Profit1 ~ N(5, 3) and Profit2 ~ N(7, 4) respectively. Both the profits are in Million. Answer the following questions about the total profit of the company in Rupees. Assume that 1 Dolllor = Rs. 45"
   ]
  },
  {
   "cell_type": "code",
   "execution_count": 12,
   "id": "233a49fe",
   "metadata": {},
   "outputs": [],
   "source": [
    "import pandas as pd\n",
    "import numpy as np\n",
    "import matplotlib.pyplot as plt\n",
    "import scipy.stats as stats\n",
    "from scipy.stats import kurtosis\n",
    "from scipy.stats import skew\n",
    "import seaborn as sns\n",
    "%matplotlib inline"
   ]
  },
  {
   "cell_type": "code",
   "execution_count": 13,
   "id": "4d08ed62",
   "metadata": {},
   "outputs": [
    {
     "name": "stdout",
     "output_type": "stream",
     "text": [
      "-------------Standard Normnal Distribution for Profit 1---------------\n",
      "\n"
     ]
    },
    {
     "data": {
      "text/plain": [
       "0.03408830818799267"
      ]
     },
     "execution_count": 13,
     "metadata": {},
     "output_type": "execute_result"
    }
   ],
   "source": [
    "print('-------------Standard Normnal Distribution for Profit 1---------------\\n')\n",
    "stats.norm(5, 3).pdf(0.05)"
   ]
  },
  {
   "cell_type": "code",
   "execution_count": 14,
   "id": "77a50e7f",
   "metadata": {},
   "outputs": [
    {
     "name": "stdout",
     "output_type": "stream",
     "text": [
      "-------------Standard Normnal Distribution for Profit 2---------------\n",
      "\n"
     ]
    },
    {
     "data": {
      "text/plain": [
       "0.02204463495650936"
      ]
     },
     "execution_count": 14,
     "metadata": {},
     "output_type": "execute_result"
    }
   ],
   "source": [
    "print('-------------Standard Normnal Distribution for Profit 2---------------\\n')\n",
    "stats.norm(7, 4).pdf(0.05)"
   ]
  },
  {
   "cell_type": "code",
   "execution_count": null,
   "id": "48d0a1f6",
   "metadata": {},
   "outputs": [],
   "source": []
  }
 ],
 "metadata": {
  "kernelspec": {
   "display_name": "Python 3",
   "language": "python",
   "name": "python3"
  },
  "language_info": {
   "codemirror_mode": {
    "name": "ipython",
    "version": 3
   },
   "file_extension": ".py",
   "mimetype": "text/x-python",
   "name": "python",
   "nbconvert_exporter": "python",
   "pygments_lexer": "ipython3",
   "version": "3.8.8"
  }
 },
 "nbformat": 4,
 "nbformat_minor": 5
}
